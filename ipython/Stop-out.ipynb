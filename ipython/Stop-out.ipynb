{
 "cells": [
  {
   "cell_type": "code",
   "execution_count": 1,
   "metadata": {},
   "outputs": [
    {
     "name": "stdout",
     "output_type": "stream",
     "text": [
      "민아\n",
      "혜리\n",
      "유라\n",
      "소진\n"
     ]
    }
   ],
   "source": [
    "### 1. 다음 리스트를 사용해 아래와 같은 문자열을 만들어 `girlsday_info`변수에 할당한 후, 콘솔에 내용을 출력하시오. [5점]\n",
    "\n",
    "girlsday_members = ['민아', '혜리', '유라', '소진']\n",
    "\n",
    "for members in girlsday_members:\n",
    "    print(members)"
   ]
  },
  {
   "cell_type": "code",
   "execution_count": 2,
   "metadata": {},
   "outputs": [
    {
     "name": "stdout",
     "output_type": "stream",
     "text": [
      "[0] RED: Apple\n",
      "[1] YELLOW: Banana\n",
      "[2] GREEN: Melon\n"
     ]
    }
   ],
   "source": [
    "### 2. `fruit_dict`객체를 사용해서 아래와 같은 결과값을 갖는 문자열을 만들어 `fruit_info`변수에 할당 한 후, 콘솔에 내용을 출력하시오. [10점]\n",
    "\n",
    "fruit_dict = {\n",
    "    'red': 'apple',\n",
    "    'yellow': 'banana',\n",
    "    'green': 'melon',\n",
    "}\n",
    "\n",
    "for i, fruit in enumerate(fruit_dict.items()):\n",
    "    print(f'[{i}] {fruit[0].upper()}: {fruit[1][:1].upper() + fruit[1][1:]}' , )"
   ]
  },
  {
   "cell_type": "code",
   "execution_count": 3,
   "metadata": {},
   "outputs": [
    {
     "name": "stdout",
     "output_type": "stream",
     "text": [
      "old_list의 주소값: 140669116110216, new_list의 주소값 : 140669116110216\n",
      "[1, 2, 3, 4]\n",
      "[1, 2, 3, 4]\n",
      "old_list의 주소값: 140669116110216, copied_list 주소값 : 140669116110088\n",
      "[1, 2, 3, 4, 5]\n",
      "[1, 2, 3, 4, 5]\n",
      "[1, 2, 3, 4]\n"
     ]
    }
   ],
   "source": [
    "### 3. list의 `copy()`메서드가 하는 일과, `copy()`를 사용하지 않았을 때 발생할 수 있는 오류에 대한 예제 코드를 작성하시오. [10점]\n",
    "\n",
    "# list는 다른 데이터타입과는 다르게 muttable하기에 메모리에 같은 주소값을 공유한다.\n",
    "# 만약 old_list 리스트를 만들고 new_list변수에 old_list를 할당할 경우 같은 메모리를 공유하게 된다.\n",
    "# 그래서 old_list에 append 메서드를 사용하여 리스트에 추가 할경우, new_list변수에도 영향을 받게된다.\n",
    "# 이런 경우, 리스트의 copy() 메서드를 사용하면 copied_list에는 다른 주소값으로 변수를 생성\n",
    "# 하기 때문에 주소값의 공유로 인한 side effect를 피할 수 있다.\n",
    "old_list = [1, 2, 3]\n",
    "new_list = old_list\n",
    "print(f'old_list의 주소값: {id(old_list)}, new_list의 주소값 : {id(new_list)}')\n",
    "\n",
    "old_list.append(4)\n",
    "print(old_list)\n",
    "print(new_list)\n",
    "\n",
    "copied_list = old_list.copy()\n",
    "\n",
    "print(f'old_list의 주소값: {id(old_list)}, copied_list 주소값 : {id(copied_list)}')\n",
    "old_list.append(5)\n",
    "\n",
    "print(old_list)\n",
    "print(new_list)\n",
    "print(copied_list)\n"
   ]
  },
  {
   "cell_type": "code",
   "execution_count": 4,
   "metadata": {},
   "outputs": [
    {
     "name": "stdout",
     "output_type": "stream",
     "text": [
      "3\n",
      "7\n",
      "11\n",
      "15\n",
      "19\n",
      "23\n",
      "27\n"
     ]
    }
   ],
   "source": [
    "### 4. 1에서 30까지의 숫자 중, 3부터 시작해서 4번째마다의 숫자를 가지는 리스트를 생성하시오. [5점]\n",
    "\n",
    "for num in range(3,30,4):\n",
    "    print(num)"
   ]
  },
  {
   "cell_type": "code",
   "execution_count": 5,
   "metadata": {},
   "outputs": [
    {
     "name": "stdout",
     "output_type": "stream",
     "text": [
      "None\n"
     ]
    }
   ],
   "source": [
    "### 5. dict형 객체인 `obj`가 있다고 할 때, `obj['key']`와 `obj.get('key')`의 차이를 서술하시오. [5점]\n",
    "\n",
    "# obj['key']를 사용할 경우 dict에 key가 없으면 에러가 나고 출력도 안되지만,\n",
    "# obj.get('key')를 사용하면 에러가 나지 않고 출력이 되지 않는다.\n",
    "# fruit_dict['apple']와 같이 없는 키를 호출하려 할경우, keyerror가 난다.\n",
    "# .get을 사용하여 없는 키를 호출 하면 None이라는 결과값을 볼 수 있다.\n",
    "# fruit_dict['apple']\n",
    "\n",
    "\"\"\"\n",
    "---------------------------------------------------------------------------\n",
    "KeyError                                  Traceback (most recent call last)\n",
    "<ipython-input-9-607f1f5d20b2> in <module>()\n",
    "      1 # obj['key']를 사용할 경우 dict에 key가 없으면 에러가 나고 출력도 안되지만,\n",
    "      2 # obj.get('key')를 사용하면 에러가 나지 않고 출력이 되지 않는다.\n",
    "----> 3 fruit_dict['apple']\n",
    "\n",
    "KeyError: 'apple'\n",
    "\n",
    "\"\"\"\n",
    "print(fruit_dict.get('apple'))"
   ]
  },
  {
   "cell_type": "code",
   "execution_count": 6,
   "metadata": {},
   "outputs": [
    {
     "name": "stdout",
     "output_type": "stream",
     "text": [
      "이름: 피카츄 타입: 전기 타입\n",
      "이름: 파이리 타입: 불 타입\n",
      "이름: 꼬부기 타입: 물 타입\n",
      "이름: 이상해씨 타입: 풀 타입\n"
     ]
    }
   ],
   "source": [
    "### 6. 튜플 언패킹에 대해 서술하고, `pokemon_info` 객체를 순회할 때 튜플 언패킹을 사용하는 예제 코드를 작성하시오. [10점]\n",
    "\n",
    "pokemon_info = [\n",
    "    ('피카츄', '전기 타입'),\n",
    "    ('파이리', '불 타입'),\n",
    "    ('꼬부기', '물 타입'),\n",
    "    ('이상해씨', '풀 타입'),\n",
    "]\n",
    "\n",
    "for poke_name, poke_type  in pokemon_info:\n",
    "    print(f'이름: {poke_name} 타입: {poke_type}', )\n",
    "\n",
    "# 튜플의 언패킹을 사용하면 간편하게 여러 변수에 할당 할 수 있는데,  \n",
    "# 이때 , 를 사용하여 변수를 선언해줘야 한다."
   ]
  },
  {
   "cell_type": "code",
   "execution_count": 7,
   "metadata": {},
   "outputs": [
    {
     "name": "stdout",
     "output_type": "stream",
     "text": [
      "x에 전달받은 매개변수: 1, y에 전달받은 매개변수: 2\n",
      "x에 전달받은 매개변수: 5, y에 전달받은 매개변수: 3\n"
     ]
    },
    {
     "data": {
      "text/plain": [
       "8"
      ]
     },
     "execution_count": 7,
     "metadata": {},
     "output_type": "execute_result"
    }
   ],
   "source": [
    "### 7. 함수에서 위치인자와 키워드인자의 차이점에 대해 서술하시오. [5점]\n",
    "\n",
    "# 함수는 매개변수를 받을때, 위치인자와 키워드인자를 받을 수 있다.\n",
    "def sum(x, y):\n",
    "    print(f'x에 전달받은 매개변수: {x}, y에 전달받은 매개변수: {y}')\n",
    "    return x + y\n",
    "\n",
    "# 위치 인자의 경우 전달받는 매개변수의 순서대로 매개변수가 전달된다.\n",
    "sum(1,2)\n",
    "\n",
    "# 키워드 인자의 경우엔 키워드를 명시해 줄 경우 위치가 맞지 않아도\n",
    "# 키워드와 매치되는 매개변수로 값을 전달한다.\n",
    "sum(y=3,x=5)"
   ]
  },
  {
   "cell_type": "code",
   "execution_count": 8,
   "metadata": {},
   "outputs": [
    {
     "data": {
      "text/plain": [
       "'\\n1. 클래스와 인스턴스의 차이점 [2점]\\n    - 클래스는 attr과 메서드를 객체 형태로 저장 할 수 있는 생성자 함수이며, 클래스를 사용하여 생성된 인스턴스와 클래스의 주소값은 다르다.\\n2. 클래스의 생성자 함수 이름 [1점]\\n    - 클래스의 생성자 함수 이름은 대문자를 사용하여 선언하는 것이 관례다.\\n3. 클래스의 생성자 함수가 호출되는 시점은? [2점]\\n    - 생성자함수를 Example()와 같이 호출 할 때 \\n4. 인스턴스 메서드의 `self`매개변수의 의미 [4점]\\n    - 인스턴스 내부의 self.name 등과 같이 self로 attribute를 설정할 경우, 인스턴스 생성시 attribute의 참조는 생성된 클래스가 아닌 인스턴스를 참조한다.\\n'"
      ]
     },
     "execution_count": 8,
     "metadata": {},
     "output_type": "execute_result"
    }
   ],
   "source": [
    "### 8. 클래스와 인스턴스의 다음 사항들에 대해 서술하시오.\n",
    "\"\"\"\n",
    "1. 클래스와 인스턴스의 차이점 [2점]\n",
    "    - 클래스는 attr과 메서드를 객체 형태로 저장 할 수 있는 생성자 함수이며, 클래스를 사용하여 생성된 인스턴스와 클래스의 주소값은 다르다.\n",
    "2. 클래스의 생성자 함수 이름 [1점]\n",
    "    - 클래스의 생성자 함수 이름은 대문자를 사용하여 선언하는 것이 관례다.\n",
    "3. 클래스의 생성자 함수가 호출되는 시점은? [2점]\n",
    "    - 생성자함수를 Example()와 같이 호출 할 때 \n",
    "4. 인스턴스 메서드의 `self`매개변수의 의미 [4점]\n",
    "    - 인스턴스 내부의 self.name 등과 같이 self로 attribute를 설정할 경우, 인스턴스 생성시 attribute의 참조는 생성된 클래스가 아닌 인스턴스를 참조한다.\n",
    "\"\"\"\n",
    "\n"
   ]
  },
  {
   "cell_type": "code",
   "execution_count": 9,
   "metadata": {},
   "outputs": [
    {
     "data": {
      "text/plain": [
       "'\\n1. `getter`를 만드는 방법에 대해 서술: 2점\\n    - @property를 사용하여 def 기술\\n    \\n2.  `setter`를 만드는 방법에 대해 서술: 3점\\n    - @property_name.setter 사용하여 def 기술\\n'"
      ]
     },
     "execution_count": 9,
     "metadata": {},
     "output_type": "execute_result"
    }
   ],
   "source": [
    "### 9. `property`를 정의하는 방법에 대해 서술하시오. [5점]\n",
    "\"\"\"\n",
    "1. `getter`를 만드는 방법에 대해 서술: 2점\n",
    "    - @property를 사용하여 def 기술\n",
    "    \n",
    "2.  `setter`를 만드는 방법에 대해 서술: 3점\n",
    "    - @property_name.setter 사용하여 def 기술\n",
    "\"\"\"\n"
   ]
  },
  {
   "cell_type": "code",
   "execution_count": 10,
   "metadata": {},
   "outputs": [],
   "source": [
    "### 10. 아래와 같은 `User`클래스가 있다. 이 클래스를 상속받은 `Student`클래스를 정의하고, 초기화 메서드에서 `name`과 함께`age`라는 매개변수를 추가로 사용해 인스턴스의 `age`속성을 추가로 정의하도록 한다. [10점]\n",
    "\"\"\"\n",
    "1. (기본구현) User클래스를 상속: 1\n",
    "2. 초기화 메서드 재정의: +3\n",
    "3. 초기화 메서드에서 `super`사용: +6\n",
    "\"\"\"\n",
    "\n",
    "class User:\n",
    "    def __init__(self, name):\n",
    "        self.name = name\n",
    "\n",
    "class Student(User):\n",
    "    def __init__(self, name, age):\n",
    "        super().__init__(name)\n",
    "        self.age = age\n"
   ]
  },
  {
   "cell_type": "code",
   "execution_count": 11,
   "metadata": {},
   "outputs": [
    {
     "name": "stdout",
     "output_type": "stream",
     "text": [
      "공지: top[#2] 격전을 준비하세요! (수정)\n",
      "공지: top격전 참여시 불건전 행위에 대한 주의사항 안내(수정)\n",
      "공지: 대리 게임 등 적발 현황 263차 안내\n",
      "공지: 부정행위 프로그램 제재 현황 안내\n",
      "공지: 6월 2차 소환사 문화재지킴이 모집 안내\n",
      "공지: 일부 클라이언트 오류 현상에 대한 안내 (정상화)\n",
      "공지: 6월 6일(수) 서버 점검 안내 (완료)\n",
      "공지: PBE 인사이드 20화(8.12 패치 편) 방송 안내\n",
      "공지: 다시 돌아온 격전! 얼불져스 6/5(화) 방송 일정 안내\n",
      "공지: 1일 격전 테스트에 참여해 주세요\n",
      "공지: 대리 게임 등 적발 현황 262차 안내\n",
      "공지: 부정행위 프로그램 제재 현황 안내\n"
     ]
    }
   ],
   "source": [
    "### 11. `url`주소로부터 아래 결과를 출력한다. [10점]\n",
    "import os\n",
    "import requests\n",
    "from bs4 import BeautifulSoup\n",
    "\n",
    "\n",
    "class Notice:\n",
    "    notice_list = []\n",
    "\n",
    "    def __init__(self, text, date, view):\n",
    "        self.text = text\n",
    "        self.date = date\n",
    "        self.view = view\n",
    "\n",
    "    @classmethod\n",
    "    def get_notice(cls):\n",
    "        file_path = 'data/notice.html'\n",
    "\n",
    "        url = 'http://www.leagueoflegends.co.kr/?m=news&cate=notice'\n",
    "\n",
    "        if not os.path.exists(file_path):\n",
    "\n",
    "            response = requests.get(url)\n",
    "\n",
    "            html = response.text\n",
    "\n",
    "            open(file_path, 'wt').write(html)\n",
    "\n",
    "        else:\n",
    "            html = open(file_path, 'rt').read()\n",
    "\n",
    "        soup = BeautifulSoup(html, 'lxml')\n",
    "\n",
    "        table = soup.select_one('table.request-list')\n",
    "\n",
    "        tr_list = table.select('tr')\n",
    "\n",
    "        for index, tr in enumerate(tr_list[1:]):\n",
    "            notice_text = tr.select_one('a').get_text()\n",
    "            notice_date = tr.select_one('td:nth-of-type(2)').get_text()\n",
    "            notice_view = tr.select_one('td:nth-of-type(3)').get_text()\n",
    "\n",
    "            cls.notice_list.append(Notice(notice_text, notice_date, notice_view))\n",
    "            \n",
    "    @classmethod\n",
    "    def show_notice(cls):\n",
    "        for notice in cls.notice_list:\n",
    "\n",
    "            print('공지: {}'.format(notice.text))\n",
    "\n",
    "    @classmethod\n",
    "    def show_info_all(cls):\n",
    "        for notice in cls.notice_list:\n",
    "\n",
    "            print('공지:{}\\n날짜:{}\\n뷰:{}'.format(notice.text, notice.date, notice.view))\n",
    "\n",
    "\n",
    "Notice.get_notice()\n",
    "Notice.show_notice()"
   ]
  },
  {
   "cell_type": "code",
   "execution_count": 12,
   "metadata": {
    "scrolled": true
   },
   "outputs": [
    {
     "name": "stdout",
     "output_type": "stream",
     "text": [
      "공지:top[#2] 격전을 준비하세요! (수정)\n",
      "날짜:2018-05-18\n",
      "뷰:18,733\n",
      "공지:top격전 참여시 불건전 행위에 대한 주의사항 안내(수정)\n",
      "날짜:2018-04-26\n",
      "뷰:34,475\n",
      "공지:대리 게임 등 적발 현황 263차 안내\n",
      "날짜:2018-06-08\n",
      "뷰:5,344\n",
      "공지:부정행위 프로그램 제재 현황 안내\n",
      "날짜:2018-06-08\n",
      "뷰:2,118\n",
      "공지:6월 2차 소환사 문화재지킴이 모집 안내\n",
      "날짜:2018-06-08\n",
      "뷰:2,019\n",
      "공지:일부 클라이언트 오류 현상에 대한 안내 (정상화)\n",
      "날짜:2018-06-06\n",
      "뷰:10,138\n",
      "공지:6월 6일(수) 서버 점검 안내 (완료)\n",
      "날짜:2018-06-05\n",
      "뷰:40,426\n",
      "공지:PBE 인사이드 20화(8.12 패치 편) 방송 안내\n",
      "날짜:2018-06-04\n",
      "뷰:9,201\n",
      "공지:다시 돌아온 격전! 얼불져스 6/5(화) 방송 일정 안내\n",
      "날짜:2018-06-03\n",
      "뷰:14,295\n",
      "공지:1일 격전 테스트에 참여해 주세요\n",
      "날짜:2018-06-03\n",
      "뷰:16,441\n",
      "공지:대리 게임 등 적발 현황 262차 안내\n",
      "날짜:2018-06-01\n",
      "뷰:3,222\n",
      "공지:부정행위 프로그램 제재 현황 안내\n",
      "날짜:2018-06-01\n",
      "뷰:1,219\n"
     ]
    }
   ],
   "source": [
    "### 12. `url`주소에 있는 공지사항에 해당하는 `Notice`클래스를 만들고, 크롤링시 공지사항 하나마다 `Notice`클래스 인스턴스를 만들어 `notice_list`리스트에 추가한다. [10점]\n",
    "Notice.show_info_all()"
   ]
  },
  {
   "cell_type": "code",
   "execution_count": 13,
   "metadata": {},
   "outputs": [],
   "source": [
    "### 13. runserver가 localhost:8000에서 입력을 받는 상태로 동작 중일 때, 브라우저에서 `http://localhost:8000/abc/`URL을 \n",
    "#       입력하면 어떤 절차를 거쳐 사용자에게 다시 화면을 보여주는지 서술하시오. [10점]\n",
    "# browser에서의 url get요청은 인터넷망을 타고 server 컴퓨터에 요청되어 response를 request했던 browser로 정보를 되돌려 주어 render하는 구조이나,\n",
    "# localhost의 경우엔 이 일련의 과정을 컴퓨터 내부의 서버를 사용하기 때문에, 매우빠르게 화면이 렌더링 된다.\n",
    "# browser -> request -> localhost -> response -> browser"
   ]
  }
 ],
 "metadata": {
  "kernelspec": {
   "display_name": "Python 3",
   "language": "python",
   "name": "python3"
  },
  "language_info": {
   "codemirror_mode": {
    "name": "ipython",
    "version": 3
   },
   "file_extension": ".py",
   "mimetype": "text/x-python",
   "name": "python",
   "nbconvert_exporter": "python",
   "pygments_lexer": "ipython3",
   "version": "3.6.5"
  }
 },
 "nbformat": 4,
 "nbformat_minor": 2
}
